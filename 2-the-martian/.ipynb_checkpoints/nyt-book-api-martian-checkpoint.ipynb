{
 "cells": [
  {
   "cell_type": "markdown",
   "metadata": {},
   "source": [
    "Tracking the histories of books-turned-movies on the NYT Best Sellers List. What sort of relationship exists between the book's rank and the date its movie was released?\n",
    "\n",
    "Note: The list combines all books in a series into one listing under Children's Series. This is relevant for the following books/movies I'm examining: The Twilight Saga: Eclipse, Harry Potter and the Deathly Hallows Part 1, Harry Potter and the Deathly Hallows Part 2, The Twilight Saga: Breaking Dawn Part 1, The Hunger Games, The Twilight Saga Breaking Dawn Part 2, The Hunger Games: Catching Fire, The Hunger Games: Mockingjay - Part 1 and The Hunger Games: Mockingjay - Part 2."
   ]
  },
  {
   "cell_type": "code",
   "execution_count": 2,
   "metadata": {},
   "outputs": [],
   "source": [
    "import requests\n",
    "import pandas as pd\n",
    "import json"
   ]
  },
  {
   "cell_type": "code",
   "execution_count": 28,
   "metadata": {},
   "outputs": [],
   "source": [
    "# CATEGORY 1: NEW BOOKS"
   ]
  },
  {
   "cell_type": "code",
   "execution_count": 3,
   "metadata": {},
   "outputs": [
    {
     "name": "stdout",
     "output_type": "stream",
     "text": [
      "['2014-11-16', '2014-11-23', '2014-11-30', '2014-12-07', '2014-12-14']\n"
     ]
    }
   ],
   "source": [
    "data = pd.read_csv('input/trade-fiction-martian1.csv', encoding='utf8')\n",
    "\n",
    "dates = data['Date'].tolist()\n",
    "\n",
    "print(dates)"
   ]
  },
  {
   "cell_type": "code",
   "execution_count": null,
   "metadata": {
    "scrolled": true
   },
   "outputs": [],
   "source": [
    "for date in dates:\n",
    "    # Set up the parameters we want to pass to the API.\n",
    "    parameters = {\"api-key\": \"e67cf24bfe5e41628e9b424f1e479900\", \"list\": \"trade-fiction-paperback\", \"published-date\": date}\n",
    "    \n",
    "    # Make a get request with the parameters.\n",
    "    response = requests.get(\"https://api.nytimes.com/svc/books/v3/lists.json\", params=parameters)\n",
    "    \n",
    "    response = response.json()\n",
    "    \n",
    "    print(response)\n",
    "    \n",
    "    with open('output/data.json', 'a') as outfile:\n",
    "        json.dump(response, outfile, indent=4, sort_keys=True)\n",
    "    "
   ]
  }
 ],
 "metadata": {
  "kernelspec": {
   "display_name": "Python 3",
   "language": "python",
   "name": "python3"
  },
  "language_info": {
   "codemirror_mode": {
    "name": "ipython",
    "version": 3
   },
   "file_extension": ".py",
   "mimetype": "text/x-python",
   "name": "python",
   "nbconvert_exporter": "python",
   "pygments_lexer": "ipython3",
   "version": "3.6.5"
  }
 },
 "nbformat": 4,
 "nbformat_minor": 2
}
