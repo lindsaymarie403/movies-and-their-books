{
 "cells": [
  {
   "cell_type": "markdown",
   "metadata": {},
   "source": [
    "Tracking the histories of books-turned-movies on the NYT Best Sellers List. What sort of relationship exists between the book's rank and the date its movie was released?\n",
    "\n",
    "Note: The list combines all books in a series into one listing under Children's Series. This is relevant for the following books/movies I'm examining: The Twilight Saga: Eclipse, Harry Potter and the Deathly Hallows Part 1, Harry Potter and the Deathly Hallows Part 2, The Twilight Saga: Breaking Dawn Part 1, The Hunger Games, The Twilight Saga Breaking Dawn Part 2, The Hunger Games: Catching Fire, The Hunger Games: Mockingjay - Part 1 and The Hunger Games: Mockingjay - Part 2."
   ]
  },
  {
   "cell_type": "code",
   "execution_count": 1,
   "metadata": {},
   "outputs": [],
   "source": [
    "import requests\n",
    "import pandas as pd\n",
    "import json"
   ]
  },
  {
   "cell_type": "code",
   "execution_count": 157,
   "metadata": {},
   "outputs": [
    {
     "name": "stdout",
     "output_type": "stream",
     "text": [
      "['2015-08-16', '2015-08-23', '2015-08-30', '2015-09-06', '2015-09-13']\n"
     ]
    }
   ],
   "source": [
    "data = pd.read_csv('input/childrens-series76.csv', encoding='utf8')\n",
    "\n",
    "dates = data['Date'].tolist()\n",
    "\n",
    "print(dates)"
   ]
  },
  {
   "cell_type": "code",
   "execution_count": 158,
   "metadata": {
    "scrolled": true
   },
   "outputs": [
    {
     "name": "stdout",
     "output_type": "stream",
     "text": [
      "{'message': 'API rate limit exceeded'}\n",
      "{'message': 'API rate limit exceeded'}\n",
      "{'message': 'API rate limit exceeded'}\n",
      "{'message': 'API rate limit exceeded'}\n",
      "{'message': 'API rate limit exceeded'}\n"
     ]
    }
   ],
   "source": [
    "for date in dates:\n",
    "    # Set up the parameters we want to pass to the API.\n",
    "    parameters = {\"api-key\": \"e67cf24bfe5e41628e9b424f1e479900\", \"list\": \"series-books\", \"published-date\": date}\n",
    "    \n",
    "    # Make a get request with the parameters.\n",
    "    response = requests.get(\"https://api.nytimes.com/svc/books/v3/lists.json\", params=parameters)\n",
    "    \n",
    "    response = response.json()\n",
    "    \n",
    "    print(response)\n",
    "    \n",
    "    with open('output/data76.json', 'a') as outfile:\n",
    "        json.dump(response, outfile, indent=4, sort_keys=True)\n",
    "    "
   ]
  }
 ],
 "metadata": {
  "kernelspec": {
   "display_name": "Python 3",
   "language": "python",
   "name": "python3"
  },
  "language_info": {
   "codemirror_mode": {
    "name": "ipython",
    "version": 3
   },
   "file_extension": ".py",
   "mimetype": "text/x-python",
   "name": "python",
   "nbconvert_exporter": "python",
   "pygments_lexer": "ipython3",
   "version": "3.6.5"
  }
 },
 "nbformat": 4,
 "nbformat_minor": 2
}
